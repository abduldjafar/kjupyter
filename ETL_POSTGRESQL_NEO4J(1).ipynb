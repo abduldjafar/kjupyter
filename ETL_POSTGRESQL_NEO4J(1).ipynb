{
 "cells": [
  {
   "cell_type": "code",
   "execution_count": 20,
   "metadata": {},
   "outputs": [],
   "source": [
    "from pyspark.sql import SparkSession\n",
    "from pyspark.sql.functions import col, row_number, concat\n",
    "from pyspark.sql.window import Window\n",
    "from neo4j import GraphDatabase"
   ]
  },
  {
   "cell_type": "code",
   "execution_count": 2,
   "metadata": {},
   "outputs": [],
   "source": [
    "spark = SparkSession \\\n",
    "    .builder \\\n",
    "    .appName(\"Python Spark SQL basic example\") \\\n",
    "    .getOrCreate()"
   ]
  },
  {
   "cell_type": "code",
   "execution_count": 3,
   "metadata": {},
   "outputs": [],
   "source": [
    "df = spark.read \\\n",
    "    .format(\"jdbc\") \\\n",
    "    .option(\"url\", \"jdbc:postgresql://192.168.15.205:5432/db_daun_gatal\") \\\n",
    "    .option(\"dbtable\", \"bukalapak_crawl\") \\\n",
    "    .option(\"user\", \"postgres\") \\\n",
    "    .option(\"password\", \"toor\") \\\n",
    "    .option(\"driver\", \"org.postgresql.Driver\") \\\n",
    "    .load()\n",
    "\n"
   ]
  },
  {
   "cell_type": "code",
   "execution_count": 4,
   "metadata": {},
   "outputs": [
    {
     "name": "stdout",
     "output_type": "stream",
     "text": [
      "root\n",
      " |-- id: string (nullable = true)\n",
      " |-- condition: string (nullable = true)\n",
      " |-- created_at: string (nullable = true)\n",
      " |-- category: string (nullable = true)\n",
      " |-- subcategory: string (nullable = true)\n",
      " |-- price: long (nullable = true)\n",
      " |-- images: array (nullable = true)\n",
      " |    |-- element: string (containsNull = true)\n",
      " |-- rating: integer (nullable = true)\n",
      " |-- url: string (nullable = true)\n",
      " |-- specs_brand: string (nullable = true)\n",
      " |-- stats_interest: integer (nullable = true)\n",
      " |-- stats_sold: integer (nullable = true)\n",
      " |-- stats_view: integer (nullable = true)\n",
      " |-- state: string (nullable = true)\n",
      " |-- store_city: string (nullable = true)\n",
      " |-- store_province: string (nullable = true)\n",
      " |-- name: string (nullable = true)\n",
      " |-- active: boolean (nullable = true)\n",
      " |-- url_src: string (nullable = true)\n",
      "\n"
     ]
    }
   ],
   "source": [
    "df.printSchema()"
   ]
  },
  {
   "cell_type": "code",
   "execution_count": 5,
   "metadata": {},
   "outputs": [
    {
     "name": "stdout",
     "output_type": "stream",
     "text": [
      "+-------+--------------------+---------+---------------+-----------------+--------------------+-------------+\n",
      "|     id|                name|condition|       category|      subcategory|      store_province|   store_city|\n",
      "+-------+--------------------+---------+---------------+-----------------+--------------------+-------------+\n",
      "|1x2or6d|voucer depok fant...|     Baru|Tiket & Voucher| Travel & Hiburan|          Jawa Barat|        Depok|\n",
      "| g2504l|BIOAQUA CHAMOMILE...|     Baru|Tiket & Voucher| Travel & Hiburan|          Jawa Barat| Kab. Bandung|\n",
      "| t6a6du|Topi Army - Topi ...|     Baru|Tiket & Voucher| Travel & Hiburan|          Jawa Barat|      Bandung|\n",
      "|1p24v8e|keris putut pamor...|    Bekas|Tiket & Voucher| Travel & Hiburan|Daerah Istimewa Y...|       Bantul|\n",
      "|29ogehw|    vocher indomaret|     Baru|Tiket & Voucher|Makanan & Minuman|         DKI Jakarta|Jakarta Barat|\n",
      "+-------+--------------------+---------+---------------+-----------------+--------------------+-------------+\n",
      "only showing top 5 rows\n",
      "\n"
     ]
    }
   ],
   "source": [
    "df.select(\"id\",\"name\",\"condition\",\"category\",\"subcategory\",\"store_province\",\"store_city\").show(5)"
   ]
  },
  {
   "cell_type": "code",
   "execution_count": 6,
   "metadata": {},
   "outputs": [],
   "source": [
    "data = {}\n",
    "for column in [\"condition\",\"category\",\"subcategory\",\"store_province\",\"store_city\"]:\n",
    "    w = Window().orderBy(column)\n",
    "    data[column]=df.select(column).distinct().withColumn(\"id_\"+column,row_number().over(w))\n",
    "    #data[column].write.csv(column+\".csv\")\n"
   ]
  },
  {
   "cell_type": "code",
   "execution_count": 7,
   "metadata": {},
   "outputs": [],
   "source": [
    "data_main = df.select(\"id\",\"name\",\"condition\",\"category\",\"subcategory\",\"store_province\",\"store_city\")"
   ]
  },
  {
   "cell_type": "code",
   "execution_count": 34,
   "metadata": {},
   "outputs": [
    {
     "name": "stdout",
     "output_type": "stream",
     "text": [
      "+-------+--------------------+------------+-----------+--------------+-----------------+-------------+\n",
      "|     id|                name|id_condition|id_category|id_subcategory|id_store_province|id_store_city|\n",
      "+-------+--------------------+------------+-----------+--------------+-----------------+-------------+\n",
      "|23ed11o|mesin hitung uang...|           1|         20|           482|                4|           88|\n",
      "| 7jrgfd|Spirulina Pasific...|           2|         16|           327|                4|           88|\n",
      "|1o261ht|madu kunyit teripang|           1|         16|           327|                4|           88|\n",
      "+-------+--------------------+------------+-----------+--------------+-----------------+-------------+\n",
      "only showing top 3 rows\n",
      "\n"
     ]
    }
   ],
   "source": [
    "data_main.join(data[\"condition\"], data_main.condition ==data[\"condition\"].condition) \\\n",
    "    .select(\"id\",\"name\",\"id_condition\",\"category\",\"subcategory\",\"store_province\",\"store_city\") \\\n",
    "    .join(data[\"category\"], data_main.category ==data[\"category\"].category) \\\n",
    "    .select(\"id\",\"name\",\"id_condition\",\"id_category\",\"subcategory\",\"store_province\",\"store_city\") \\\n",
    "    .join(data[\"subcategory\"], data_main.subcategory ==data[\"subcategory\"].subcategory) \\\n",
    "    .select(\"id\",\"name\",\"id_condition\",\"id_category\",\"id_subcategory\",\"store_province\",\"store_city\") \\\n",
    "    .join(data[\"store_province\"], data_main.store_province ==data[\"store_province\"].store_province) \\\n",
    "    .select(\"id\",\"name\",\"id_condition\",\"id_category\",\"id_subcategory\",\"id_store_province\",\"store_city\") \\\n",
    "    .join(data[\"store_city\"], data_main.store_city ==data[\"store_city\"].store_city) \\\n",
    "    .select(\"id\",\"name\",\"id_condition\",\"id_category\",\"id_subcategory\",\"id_store_province\",\"id_store_city\") \\\n",
    "    .show(3)"
   ]
  },
  {
   "cell_type": "code",
   "execution_count": 73,
   "metadata": {},
   "outputs": [],
   "source": [
    "uri = \"neo4j://192.168.10.73:7687\"\n",
    "driver = GraphDatabase.driver(uri, auth=(\"neo4j\", \"IntelInside333\"))\n",
    "\n",
    "def create_all_nodes(uri=uri,driver=driver):\n",
    "    def create_uniq_node(tx):\n",
    "        query = (\n",
    "                \"CREATE CONSTRAINT ON (condition:Condition) ASSERT condition.id IS UNIQUE\"\n",
    "                \"CREATE CONSTRAINT ON (category:Category) ASSERT category.id IS UNIQUE\"\n",
    "                \"CREATE CONSTRAINT ON (subcategory:Subcategory) ASSERT subcategory.id IS UNIQUE\"\n",
    "                \"CREATE CONSTRAINT ON (store_province:StoreProvince) ASSERT store_province.id IS UNIQUE\"\n",
    "                \"CREATE CONSTRAINT ON (store_city:StoreCity) ASSERT store_city.id IS UNIQUE\"\n",
    "\n",
    "            )\n",
    "        tx.run(query)\n",
    "\n",
    "    def create_condition(tx, status, id):\n",
    "        tx.run(\"CREATE (:Condition {status: $status, id:$id})\", status=status, id=id)\n",
    "\n",
    "    def create_category(tx, nama, id):\n",
    "        tx.run(\"CREATE (:Category {nama: $nama, id:$id})\", nama=nama, id=id)\n",
    "\n",
    "    def create_subcategory(tx, nama, id):\n",
    "        tx.run(\"CREATE (:Subcategory {nama: $nama, id:$id})\", nama=nama, id=id)\n",
    "\n",
    "    def create_store_province(tx, nama, id):\n",
    "        tx.run(\"CREATE (:StoreProvince {nama: $nama, id:$id})\", nama=nama, id=id)\n",
    "\n",
    "    def create_store_city(tx, nama, id):\n",
    "        tx.run(\"CREATE (:StoreCity {nama: $nama, id:$id})\", nama=nama, id=id)\n",
    "\n",
    "    def create_barang(tx, nama, id):\n",
    "        tx.run(\"CREATE (:Barang {nama: $nama, id:$id})\", nama=nama, id=id)\n",
    "\n",
    "    with driver.session() as session:\n",
    "        for x in data[\"condition\"].collect():\n",
    "            session.write_transaction(create_condition,x.condition,x.id_condition)\n",
    "        for x in data[\"category\"].collect():\n",
    "            session.write_transaction(create_category,x.category,x.id_category)\n",
    "        for x in data[\"subcategory\"].collect():\n",
    "            session.write_transaction(create_subcategory,x.subcategory,x.id_subcategory)\n",
    "        for x in data[\"store_province\"].collect():\n",
    "            session.write_transaction(create_store_province,x.store_province,x.id_store_province)\n",
    "        for x in data[\"store_city\"].collect():\n",
    "            session.write_transaction(create_store_city,x.store_city,x.id_store_city)\n",
    "\n",
    "    driver.close()"
   ]
  },
  {
   "cell_type": "code",
   "execution_count": 36,
   "metadata": {},
   "outputs": [],
   "source": [
    "relation_data = data_main.join(data[\"condition\"], data_main.condition ==data[\"condition\"].condition) \\\n",
    "    .select(\"id\",\"name\",\"id_condition\",\"category\",\"subcategory\",\"store_province\",\"store_city\") \\\n",
    "    .join(data[\"category\"], data_main.category ==data[\"category\"].category) \\\n",
    "    .select(\"id\",\"name\",\"id_condition\",\"id_category\",\"subcategory\",\"store_province\",\"store_city\") \\\n",
    "    .join(data[\"subcategory\"], data_main.subcategory ==data[\"subcategory\"].subcategory) \\\n",
    "    .select(\"id\",\"name\",\"id_condition\",\"id_category\",\"id_subcategory\",\"store_province\",\"store_city\") \\\n",
    "    .join(data[\"store_province\"], data_main.store_province ==data[\"store_province\"].store_province) \\\n",
    "    .select(\"id\",\"name\",\"id_condition\",\"id_category\",\"id_subcategory\",\"id_store_province\",\"store_city\") \\\n",
    "    .join(data[\"store_city\"], data_main.store_city ==data[\"store_city\"].store_city) \\\n",
    "    .select(\"id\",\"name\",\"id_condition\",\"id_category\",\"id_subcategory\",\"id_store_province\",\"id_store_city\")"
   ]
  },
  {
   "cell_type": "code",
   "execution_count": 78,
   "metadata": {},
   "outputs": [],
   "source": [
    "data_test = relation_data.collect()"
   ]
  },
  {
   "cell_type": "code",
   "execution_count": 79,
   "metadata": {},
   "outputs": [],
   "source": [
    "def create_all_relations(uri=uri,driver=driver,data=data_test):\n",
    "    def run_query(tx,id_condition,id_category,id_subcategory,id_store_province,id_store_city,name,id_Barang):\n",
    "        query = (\n",
    "                    \"MATCH (condition:Condition {id: $id_condition}) \"\n",
    "                    \"MATCH (category:Category {id: $id_category}) \"\n",
    "                    \"MATCH (subcategory:Subcategory {id: $id_subcategory}) \"\n",
    "                    \"MATCH (store_province:StoreProvince {id: $id_store_province}) \"\n",
    "                    \"MATCH (store_city:StoreCity {id: $id_store_city}) \"\n",
    "                    \"CREATE (barang:Barang {name: $name ,id: $id_Barang}) \"\n",
    "                    \"CREATE (barang)-[:has_condition]->(condition) \"\n",
    "                    \"CREATE (barang)-[:has_category]->(category) \"\n",
    "                    \"CREATE (barang)-[:has_subcategory]->(subcategory) \"\n",
    "                    \"CREATE (barang)-[:has_store_province]->(store_province) \"\n",
    "                    \"CREATE (barang)-[:has_store_city]->(store_city) \"\n",
    "\n",
    "\n",
    "                )\n",
    "        tx.run(query,id_condition=id_condition,id_category=id_category,id_subcategory=id_subcategory,\n",
    "               id_store_province=id_store_province,id_store_city=id_store_city,name=name,id_Barang=id_Barang)\n",
    "    with driver.session() as session:\n",
    "        for x in data:\n",
    "            session.write_transaction(run_query,x.id_condition,x.id_category,x.id_subcategory,x.id_store_province,x.id_store_city,x.name,x.id)\n",
    "        \n",
    "    driver.close()"
   ]
  },
  {
   "cell_type": "code",
   "execution_count": 80,
   "metadata": {},
   "outputs": [],
   "source": [
    "create_all_nodes()\n",
    "create_all_relations()"
   ]
  },
  {
   "cell_type": "code",
   "execution_count": null,
   "metadata": {},
   "outputs": [],
   "source": []
  },
  {
   "cell_type": "code",
   "execution_count": null,
   "metadata": {},
   "outputs": [],
   "source": []
  }
 ],
 "metadata": {
  "kernelspec": {
   "display_name": "Python 3",
   "language": "python",
   "name": "python3"
  },
  "language_info": {
   "codemirror_mode": {
    "name": "ipython",
    "version": 3
   },
   "file_extension": ".py",
   "mimetype": "text/x-python",
   "name": "python",
   "nbconvert_exporter": "python",
   "pygments_lexer": "ipython3",
   "version": "3.8.5"
  }
 },
 "nbformat": 4,
 "nbformat_minor": 4
}
